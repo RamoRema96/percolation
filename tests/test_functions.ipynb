{
 "cells": [
  {
   "cell_type": "code",
   "execution_count": 65,
   "metadata": {},
   "outputs": [],
   "source": [
    "import tkinter\n",
    "import numpy as np \n",
    "import matplotlib.pyplot as plt\n",
    "import os"
   ]
  },
  {
   "cell_type": "code",
   "execution_count": 66,
   "metadata": {},
   "outputs": [],
   "source": [
    "# Get the current directory of the notebook\n",
    "notebook_dir = os.getcwd()\n",
    "\n",
    "# Construct the path to the project's root directory\n",
    "project_root = os.path.abspath(os.path.join(notebook_dir, os.pardir))\n",
    "\n",
    "# Add the project's root directory to the Python path\n",
    "import sys\n",
    "sys.path.append(project_root)"
   ]
  },
  {
   "cell_type": "code",
   "execution_count": 67,
   "metadata": {},
   "outputs": [],
   "source": [
    "from src.percolation import FireSimulation"
   ]
  },
  {
   "cell_type": "code",
   "execution_count": 68,
   "metadata": {},
   "outputs": [],
   "source": [
    "# Parameter\n",
    "\n",
    "N = 10 # NxN is the dimension of the matrix\n",
    "p = 0.5 # The density of the trees"
   ]
  },
  {
   "cell_type": "code",
   "execution_count": 69,
   "metadata": {},
   "outputs": [],
   "source": [
    "simulation = FireSimulation(N=10, p=0.5)\n",
    "configs = simulation.simulate_fire_spread(10)"
   ]
  },
  {
   "cell_type": "code",
   "execution_count": 70,
   "metadata": {},
   "outputs": [
    {
     "data": {
      "text/plain": [
       "array([[0., 3., 0., 3., 3., 3., 3., 0., 0., 3.],\n",
       "       [3., 3., 0., 3., 3., 3., 3., 0., 0., 3.],\n",
       "       [3., 0., 0., 0., 0., 3., 0., 0., 1., 0.],\n",
       "       [0., 3., 3., 0., 3., 3., 0., 1., 0., 1.],\n",
       "       [3., 0., 3., 3., 3., 3., 0., 1., 1., 0.],\n",
       "       [3., 3., 3., 3., 3., 3., 0., 0., 0., 1.],\n",
       "       [3., 3., 0., 0., 3., 0., 0., 0., 1., 0.],\n",
       "       [0., 0., 3., 3., 3., 0., 1., 0., 0., 0.],\n",
       "       [0., 0., 3., 3., 0., 3., 0., 0., 1., 1.],\n",
       "       [0., 3., 3., 3., 3., 3., 0., 1., 1., 0.]])"
      ]
     },
     "execution_count": 70,
     "metadata": {},
     "output_type": "execute_result"
    }
   ],
   "source": [
    "simulation.grid_this_time"
   ]
  },
  {
   "cell_type": "code",
   "execution_count": 71,
   "metadata": {},
   "outputs": [
    {
     "data": {
      "text/plain": [
       "array([[0., 3., 0., 3., 3., 3., 3., 0., 0., 3.],\n",
       "       [3., 3., 0., 3., 3., 3., 3., 0., 0., 3.],\n",
       "       [3., 0., 0., 0., 0., 3., 0., 0., 1., 0.],\n",
       "       [0., 3., 3., 0., 3., 3., 0., 1., 0., 1.],\n",
       "       [3., 0., 3., 3., 3., 3., 0., 1., 1., 0.],\n",
       "       [3., 3., 3., 3., 3., 3., 0., 0., 0., 1.],\n",
       "       [3., 3., 0., 0., 3., 0., 0., 0., 1., 0.],\n",
       "       [0., 0., 3., 3., 3., 0., 1., 0., 0., 0.],\n",
       "       [0., 0., 3., 3., 0., 3., 0., 0., 1., 1.],\n",
       "       [0., 3., 3., 3., 3., 3., 0., 1., 1., 0.]])"
      ]
     },
     "execution_count": 71,
     "metadata": {},
     "output_type": "execute_result"
    }
   ],
   "source": [
    "simulation.grid"
   ]
  },
  {
   "cell_type": "code",
   "execution_count": null,
   "metadata": {},
   "outputs": [],
   "source": []
  }
 ],
 "metadata": {
  "kernelspec": {
   "display_name": "percolation-xtmJu-hh-py3.9",
   "language": "python",
   "name": "python3"
  },
  "language_info": {
   "codemirror_mode": {
    "name": "ipython",
    "version": 3
   },
   "file_extension": ".py",
   "mimetype": "text/x-python",
   "name": "python",
   "nbconvert_exporter": "python",
   "pygments_lexer": "ipython3",
   "version": "3.9.7"
  }
 },
 "nbformat": 4,
 "nbformat_minor": 2
}
