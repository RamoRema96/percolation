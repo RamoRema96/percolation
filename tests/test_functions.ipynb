{
 "cells": [
  {
   "cell_type": "code",
   "execution_count": 341,
   "metadata": {},
   "outputs": [],
   "source": [
    "import tkinter\n",
    "import numpy as np \n",
    "import matplotlib.pyplot as plt"
   ]
  },
  {
   "cell_type": "markdown",
   "metadata": {},
   "source": [
    "# Struttura\n",
    "\n",
    "0 = vuoto \n",
    "\n",
    "1 = albero\n",
    "\n",
    "2 = a fuoco\n",
    "\n",
    "3 = bruciato"
   ]
  },
  {
   "cell_type": "code",
   "execution_count": 342,
   "metadata": {},
   "outputs": [],
   "source": [
    "# Parameter\n",
    "\n",
    "N = 10 # NxN is the dimension of the matrix\n",
    "p = 0.5 # The density of the trees"
   ]
  },
  {
   "cell_type": "code",
   "execution_count": 343,
   "metadata": {},
   "outputs": [],
   "source": [
    "def create_lattice(N:int, p:float):\n",
    "    m = np.zeros((N, N))\n",
    "    m[np.random.rand(N, N) < p] = 1\n",
    "    return m\n",
    "\n",
    "def begin_fire(m, N):\n",
    "    for column in range(N):\n",
    "        if (m[0][column]==1):\n",
    "            m[0][column]=2\n",
    "    return m\n",
    "def spread_fire(m, N):\n",
    "    to_fire = set()\n",
    "    for column in range(N):\n",
    "        for row in range(N):\n",
    "            if(m[row][column] == 2):\n",
    "            #Check columns at this time \n",
    "                if ((column < N-1) and m[row][column+1]==1):\n",
    "                    m[row][column+1]=2\n",
    "            # Check rows at this time\n",
    "                if((row<N-1) and m[row+1][column]==1):\n",
    "                    m[row+1][column]=2\n",
    "            \n",
    "            # Next time to fire row above\n",
    "                if((row>0) and m[row-1][column]==1):\n",
    "                    to_fire.add((row-1, column))\n",
    "            # Next time to fire column before\n",
    "                if((column>0) and m[row][column-1]==1):\n",
    "                    to_fire.add((row, column-1))\n",
    "    return m, to_fire\n",
    "\n",
    "def spread_fire_nex_time(m,to_fire):\n",
    "    for element in to_fire:\n",
    "        m[element[0]][element[1]]=2\n",
    "    return m"
   ]
  },
  {
   "cell_type": "code",
   "execution_count": 344,
   "metadata": {},
   "outputs": [],
   "source": [
    "m = create_lattice(N,p)\n",
    "m = begin_fire(m,N)"
   ]
  },
  {
   "cell_type": "code",
   "execution_count": 345,
   "metadata": {},
   "outputs": [],
   "source": [
    "m, to_fire = spread_fire(m,N)\n",
    "\n",
    "                   "
   ]
  },
  {
   "cell_type": "code",
   "execution_count": 346,
   "metadata": {},
   "outputs": [
    {
     "data": {
      "text/plain": [
       "array([[2., 0., 2., 2., 0., 2., 2., 2., 0., 2.],\n",
       "       [0., 1., 2., 2., 2., 0., 0., 0., 0., 0.],\n",
       "       [0., 0., 2., 2., 0., 1., 0., 0., 1., 1.],\n",
       "       [1., 1., 2., 2., 0., 1., 0., 1., 0., 1.],\n",
       "       [1., 0., 0., 2., 2., 0., 0., 0., 0., 1.],\n",
       "       [1., 0., 1., 2., 2., 0., 1., 0., 0., 1.],\n",
       "       [0., 1., 1., 2., 0., 1., 1., 1., 1., 1.],\n",
       "       [0., 0., 0., 0., 1., 0., 1., 0., 0., 1.],\n",
       "       [0., 0., 1., 0., 0., 0., 1., 1., 1., 1.],\n",
       "       [0., 1., 1., 0., 1., 0., 0., 0., 1., 0.]])"
      ]
     },
     "execution_count": 346,
     "metadata": {},
     "output_type": "execute_result"
    }
   ],
   "source": [
    "m"
   ]
  },
  {
   "cell_type": "code",
   "execution_count": 347,
   "metadata": {},
   "outputs": [],
   "source": [
    "m = spread_fire_nex_time(m, to_fire)\n"
   ]
  },
  {
   "cell_type": "code",
   "execution_count": 348,
   "metadata": {},
   "outputs": [],
   "source": [
    "class FireSimulation:\n",
    "    def __init__(self, N, p):\n",
    "        self.N = N\n",
    "        self.p = p\n",
    "        self.grid = self.create_lattice()\n",
    "        self.to_fire = set()\n",
    "\n",
    "    def create_lattice(self):\n",
    "        m = np.zeros((self.N, self.N))\n",
    "        m[np.random.rand(self.N, self.N) < self.p] = 1\n",
    "        return m\n",
    "\n",
    "    def begin_fire(self):\n",
    "        for column in range(self.N):\n",
    "            if self.grid[0][column] == 1:\n",
    "                self.grid[0][column] = 2\n",
    "\n",
    "    def spread_fire(self):\n",
    "        self.to_fire.clear()  # Clear the set before populating it again\n",
    "        for column in range(self.N):\n",
    "            for row in range(self.N):\n",
    "                if self.grid[row][column] == 2:\n",
    "                    if (column < self.N - 1) and self.grid[row][column + 1] == 1:\n",
    "                        self.grid[row][column + 1] = 2\n",
    "                    if (row < self.N - 1) and self.grid[row + 1][column] == 1:\n",
    "                        self.grid[row + 1][column] = 2\n",
    "                    if (row > 0) and self.grid[row - 1][column] == 1:\n",
    "                        self.to_fire.add((row - 1, column))\n",
    "                    if (column > 0) and self.grid[row][column - 1] == 1:\n",
    "                        self.to_fire.add((row, column - 1))\n",
    "\n",
    "    def spread_fire_next_time(self):\n",
    "        for element in self.to_fire:\n",
    "            self.grid[element[0]][element[1]] = 2\n",
    "\n",
    "    def simulate_fire_spread(self, steps):\n",
    "        self.begin_fire()\n",
    "        for _ in range(steps):\n",
    "            self.spread_fire()\n",
    "            self.grid_this_time = np.copy(self.grid)\n",
    "            self.grid[self.grid == 2] = 3\n",
    "            self.spread_fire_next_time()"
   ]
  },
  {
   "cell_type": "code",
   "execution_count": 349,
   "metadata": {},
   "outputs": [],
   "source": [
    "simulation = FireSimulation(N=10, p=0.5)\n",
    "simulation.simulate_fire_spread(1)"
   ]
  },
  {
   "cell_type": "code",
   "execution_count": null,
   "metadata": {},
   "outputs": [],
   "source": []
  }
 ],
 "metadata": {
  "kernelspec": {
   "display_name": "percolation-xtmJu-hh-py3.9",
   "language": "python",
   "name": "python3"
  },
  "language_info": {
   "codemirror_mode": {
    "name": "ipython",
    "version": 3
   },
   "file_extension": ".py",
   "mimetype": "text/x-python",
   "name": "python",
   "nbconvert_exporter": "python",
   "pygments_lexer": "ipython3",
   "version": "3.9.7"
  }
 },
 "nbformat": 4,
 "nbformat_minor": 2
}
